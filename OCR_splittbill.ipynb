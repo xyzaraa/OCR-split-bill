{
  "nbformat": 4,
  "nbformat_minor": 0,
  "metadata": {
    "colab": {
      "provenance": [],
      "authorship_tag": "ABX9TyPy/BdY4rpTo+JimBLwRizj"
    },
    "kernelspec": {
      "name": "python3",
      "display_name": "Python 3"
    },
    "language_info": {
      "name": "python"
    }
  },
  "cells": [
    {
      "cell_type": "markdown",
      "source": [
        "# DIY OCR"
      ],
      "metadata": {
        "id": "-4UkXyJlIn0j"
      }
    },
    {
      "cell_type": "code",
      "execution_count": 3,
      "metadata": {
        "colab": {
          "base_uri": "https://localhost:8080/"
        },
        "id": "RpvFdKAIBwVJ",
        "outputId": "e1529c9f-720d-4747-d6b9-58b9d2a10ec8"
      },
      "outputs": [
        {
          "output_type": "stream",
          "name": "stdout",
          "text": [
            "Reading package lists... Done\n",
            "Building dependency tree... Done\n",
            "Reading state information... Done\n",
            "The following additional packages will be installed:\n",
            "  tesseract-ocr-eng tesseract-ocr-osd\n",
            "The following NEW packages will be installed:\n",
            "  tesseract-ocr tesseract-ocr-eng tesseract-ocr-osd\n",
            "0 upgraded, 3 newly installed, 0 to remove and 45 not upgraded.\n",
            "Need to get 4,816 kB of archives.\n",
            "After this operation, 15.6 MB of additional disk space will be used.\n",
            "Get:1 http://archive.ubuntu.com/ubuntu jammy/universe amd64 tesseract-ocr-eng all 1:4.00~git30-7274cfa-1.1 [1,591 kB]\n",
            "Get:2 http://archive.ubuntu.com/ubuntu jammy/universe amd64 tesseract-ocr-osd all 1:4.00~git30-7274cfa-1.1 [2,990 kB]\n",
            "Get:3 http://archive.ubuntu.com/ubuntu jammy/universe amd64 tesseract-ocr amd64 4.1.1-2.1build1 [236 kB]\n",
            "Fetched 4,816 kB in 0s (23.9 MB/s)\n",
            "debconf: unable to initialize frontend: Dialog\n",
            "debconf: (No usable dialog-like program is installed, so the dialog based frontend cannot be used. at /usr/share/perl5/Debconf/FrontEnd/Dialog.pm line 78, <> line 3.)\n",
            "debconf: falling back to frontend: Readline\n",
            "debconf: unable to initialize frontend: Readline\n",
            "debconf: (This frontend requires a controlling tty.)\n",
            "debconf: falling back to frontend: Teletype\n",
            "dpkg-preconfigure: unable to re-open stdin: \n",
            "Selecting previously unselected package tesseract-ocr-eng.\n",
            "(Reading database ... 121918 files and directories currently installed.)\n",
            "Preparing to unpack .../tesseract-ocr-eng_1%3a4.00~git30-7274cfa-1.1_all.deb ...\n",
            "Unpacking tesseract-ocr-eng (1:4.00~git30-7274cfa-1.1) ...\n",
            "Selecting previously unselected package tesseract-ocr-osd.\n",
            "Preparing to unpack .../tesseract-ocr-osd_1%3a4.00~git30-7274cfa-1.1_all.deb ...\n",
            "Unpacking tesseract-ocr-osd (1:4.00~git30-7274cfa-1.1) ...\n",
            "Selecting previously unselected package tesseract-ocr.\n",
            "Preparing to unpack .../tesseract-ocr_4.1.1-2.1build1_amd64.deb ...\n",
            "Unpacking tesseract-ocr (4.1.1-2.1build1) ...\n",
            "Setting up tesseract-ocr-eng (1:4.00~git30-7274cfa-1.1) ...\n",
            "Setting up tesseract-ocr-osd (1:4.00~git30-7274cfa-1.1) ...\n",
            "Setting up tesseract-ocr (4.1.1-2.1build1) ...\n",
            "Processing triggers for man-db (2.10.2-1) ...\n",
            "Collecting pytesseract\n",
            "  Downloading pytesseract-0.3.10-py3-none-any.whl (14 kB)\n",
            "Requirement already satisfied: packaging>=21.3 in /usr/local/lib/python3.10/dist-packages (from pytesseract) (24.0)\n",
            "Requirement already satisfied: Pillow>=8.0.0 in /usr/local/lib/python3.10/dist-packages (from pytesseract) (9.4.0)\n",
            "Installing collected packages: pytesseract\n",
            "Successfully installed pytesseract-0.3.10\n"
          ]
        }
      ],
      "source": [
        "!sudo apt install tesseract-ocr\n",
        "!pip install pytesseract"
      ]
    },
    {
      "cell_type": "code",
      "source": [
        "!python --version"
      ],
      "metadata": {
        "colab": {
          "base_uri": "https://localhost:8080/"
        },
        "id": "GE_rkCN7Ccz1",
        "outputId": "9bd80bd2-c421-42ad-f722-2e6d83ed7929"
      },
      "execution_count": 4,
      "outputs": [
        {
          "output_type": "stream",
          "name": "stdout",
          "text": [
            "Python 3.10.12\n"
          ]
        }
      ]
    },
    {
      "cell_type": "code",
      "source": [
        "from PIL import Image\n",
        "import pytesseract\n",
        "import enum"
      ],
      "metadata": {
        "id": "J8iZISzYCh78"
      },
      "execution_count": 5,
      "outputs": []
    },
    {
      "cell_type": "code",
      "source": [
        "scan = pytesseract.image_to_string(Image.open('/content/test2.jpg'))\n",
        "print(scan)"
      ],
      "metadata": {
        "colab": {
          "base_uri": "https://localhost:8080/"
        },
        "id": "QRQUxH_PEpFS",
        "outputId": "402b28ab-bcbf-4b05-bb0c-e48a67e5cf96"
      },
      "execution_count": 9,
      "outputs": [
        {
          "output_type": "stream",
          "name": "stdout",
          "text": [
            "RII\n",
            "\n",
            "WIZZMIC\n",
            "\n",
            "WIZZMIE TLOGOMAS\n",
            "\n",
            "Jl. Raya Tlogomas No.2, Tlogomas\n",
            "Lowokwaru - Kota Malang\n",
            "\n",
            "+ WMTM202406020566\n",
            ": SHMTM171733138199\n",
            ": 02-06-2024 19:29\n",
            ": 95//zara\n",
            "\n",
            "Table : Quick Service\n",
            "\n",
            "Purpose : DINE IN\n",
            "\n",
            "Cashier\n",
            "\n",
            "RICE BOWL SAMBAL MATAH\n",
            "ICE LEMON TEA\n",
            "\n",
            "ICE TEA\n",
            "\n",
            "RICE BOWL BLACKPEPPER\n",
            "LYCHYEE TEA\n",
            "\n",
            "MIE GOYANG LY 1 (Cabe 5)\n",
            "MIE GOYANG LV 3 (Cabe 15)\n",
            "MIE DISKO LY 2 (Cabe 20)\n",
            "LEMON SPLASH\n",
            "\n",
            "SPICY CHICKEN WING\n",
            "TIRAMISU COFFEE FRAPPE\n",
            "\n",
            "Subtotal :\n",
            "\n",
            "Rounding :\n",
            "\n",
            "Grand Total :\n",
            "\n",
            " \n",
            "\f\n"
          ]
        }
      ]
    },
    {
      "cell_type": "markdown",
      "source": [],
      "metadata": {
        "id": "NGi4SScSIu8b"
      }
    },
    {
      "cell_type": "markdown",
      "source": [
        "# API OCR Space\n"
      ],
      "metadata": {
        "id": "oPZA6tyiIvxi"
      }
    },
    {
      "cell_type": "code",
      "source": [
        "import requests\n",
        "import json\n",
        "import io"
      ],
      "metadata": {
        "id": "N5wkrXVDIx6f"
      },
      "execution_count": 22,
      "outputs": []
    },
    {
      "cell_type": "code",
      "source": [
        "#API_URL = 'https://api.ocr.space/Parse/Image'\n",
        "#API_KEY = 'K83403513788957'\n",
        "\n",
        "def ocr_space_file(filename, overlay=False, api_key='K83403513788957', language='eng'):\n",
        "    \"\"\" OCR.space API request with local file.\n",
        "        Python3.5 - not tested on 2.7\n",
        "    :param filename: Your file path & name.\n",
        "    :param overlay: Is OCR.space overlay required in your response.\n",
        "                    Defaults to False.\n",
        "    :param api_key: OCR.space API key.\n",
        "                    Defaults to 'helloworld'.\n",
        "    :param language: Language code to be used in OCR.\n",
        "                    List of available language codes can be found on https://ocr.space/OCRAPI\n",
        "                    Defaults to 'en'.\n",
        "    :return: Result in JSON format.\n",
        "    \"\"\"\n",
        "\n",
        "    payload = {'isOverlayRequired': overlay,\n",
        "               'apikey': api_key,\n",
        "               'language': language,\n",
        "               }\n",
        "    with open(filename, 'rb') as f:\n",
        "        r = requests.post('https://api.ocr.space/parse/image',\n",
        "                          files={filename: f},\n",
        "                          data=payload,\n",
        "                          )\n",
        "    return r.content.decode()"
      ],
      "metadata": {
        "id": "5WXZalmlJjrc"
      },
      "execution_count": 35,
      "outputs": []
    },
    {
      "cell_type": "code",
      "source": [
        "test_file = ocr_space_file(filename='/content/quotes aesthetic.jpg', language='eng')\n",
        "print(test_file)"
      ],
      "metadata": {
        "colab": {
          "base_uri": "https://localhost:8080/"
        },
        "id": "qpyI1kVkG_Ng",
        "outputId": "e09a9cf7-548f-4ca2-e463-eb7633dd3d6d"
      },
      "execution_count": 36,
      "outputs": [
        {
          "output_type": "stream",
          "name": "stdout",
          "text": [
            "{\"ParsedResults\":[{\"TextOverlay\":{\"Lines\":[],\"HasOverlay\":false,\"Message\":\"Text overlay is not provided as it is not requested\"},\"TextOrientation\":\"0\",\"FileParseExitCode\":1,\"ParsedText\":\"Fight fbr your fairytale.\\r\\n\",\"ErrorMessage\":\"\",\"ErrorDetails\":\"\"}],\"OCRExitCode\":1,\"IsErroredOnProcessing\":false,\"ProcessingTimeInMilliseconds\":\"328\",\"SearchablePDFURL\":\"Searchable PDF not generated as it was not requested.\"}\n"
          ]
        }
      ]
    }
  ]
}